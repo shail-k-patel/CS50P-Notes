{
 "cells": [
  {
   "cell_type": "code",
   "execution_count": 1,
   "id": "db6bc340-9a46-4a5d-bdf2-18ea5594e12a",
   "metadata": {},
   "outputs": [
    {
     "name": "stdout",
     "output_type": "stream",
     "text": [
      "Hello World\n"
     ]
    }
   ],
   "source": [
    "print(\"Hello World\")"
   ]
  },
  {
   "cell_type": "markdown",
   "id": "8628a124-6706-424a-af10-270ae6ca6da7",
   "metadata": {},
   "source": [
    "# Importing ***NumPy***"
   ]
  },
  {
   "cell_type": "code",
   "execution_count": 2,
   "id": "a37305be-d8d9-4f35-b6c5-e1f5c8f9dbcd",
   "metadata": {},
   "outputs": [],
   "source": [
    "import numpy as np"
   ]
  },
  {
   "cell_type": "markdown",
   "id": "f26e9618-5a31-4564-bcae-1c9e0d62b794",
   "metadata": {},
   "source": [
    "# Basic 1d array"
   ]
  },
  {
   "cell_type": "code",
   "execution_count": 3,
   "id": "fa0cfda2-8f7d-45af-92e3-a98909d51a46",
   "metadata": {},
   "outputs": [
    {
     "name": "stdout",
     "output_type": "stream",
     "text": [
      "[1 2 3]\n"
     ]
    }
   ],
   "source": [
    "a = np.array([1,2,3])\n",
    "print(a)"
   ]
  },
  {
   "cell_type": "code",
   "execution_count": 4,
   "id": "b92623df-6bf1-4e41-bbd3-d64cda2a1972",
   "metadata": {},
   "outputs": [
    {
     "name": "stdout",
     "output_type": "stream",
     "text": [
      "<class 'numpy.ndarray'>\n"
     ]
    }
   ],
   "source": [
    "print(type(a))"
   ]
  },
  {
   "cell_type": "markdown",
   "id": "54519245-a06c-4038-a56f-232fbc644cf9",
   "metadata": {},
   "source": [
    "# Indexing is same as in list or tuple"
   ]
  },
  {
   "cell_type": "code",
   "execution_count": 5,
   "id": "3dde2727-db09-41ae-9a4b-aa228483cab2",
   "metadata": {},
   "outputs": [
    {
     "name": "stdout",
     "output_type": "stream",
     "text": [
      "1\n"
     ]
    }
   ],
   "source": [
    "print(a[0])"
   ]
  },
  {
   "cell_type": "markdown",
   "id": "7d0f3863-099f-4750-b412-3ff657423f04",
   "metadata": {},
   "source": [
    "# Basic 2d array"
   ]
  },
  {
   "cell_type": "code",
   "execution_count": 6,
   "id": "92296c6d-1475-40a9-9135-df039e64bfe5",
   "metadata": {},
   "outputs": [
    {
     "name": "stdout",
     "output_type": "stream",
     "text": [
      "[[ 1 99  3]\n",
      " [ 1  2  4]\n",
      " [ 2 45 67]]\n"
     ]
    }
   ],
   "source": [
    "a = np.array([[ 1, 99,  3],[ 1,  2,  4],[2, 45, 67]])\n",
    "print(a)"
   ]
  },
  {
   "cell_type": "markdown",
   "id": "3e0cc6e8-eb9c-40e6-a29a-360cf86b73e5",
   "metadata": {},
   "source": [
    "# Dimensions"
   ]
  },
  {
   "cell_type": "code",
   "execution_count": 7,
   "id": "90037a6d-84ed-4ec1-aa36-941c1781c947",
   "metadata": {},
   "outputs": [
    {
     "name": "stdout",
     "output_type": "stream",
     "text": [
      "2\n"
     ]
    }
   ],
   "source": [
    "print(a.ndim)"
   ]
  },
  {
   "cell_type": "markdown",
   "id": "ba4aacf9-0b87-418a-8f08-812735491dc0",
   "metadata": {},
   "source": [
    "# Number of elements in array"
   ]
  },
  {
   "cell_type": "code",
   "execution_count": 8,
   "id": "1b885ae8-8b9f-4f49-8d6f-10f1ea162c71",
   "metadata": {},
   "outputs": [
    {
     "name": "stdout",
     "output_type": "stream",
     "text": [
      "9\n"
     ]
    }
   ],
   "source": [
    "print(a.size)"
   ]
  },
  {
   "cell_type": "markdown",
   "id": "2a3ed6af-0024-4bb3-86f6-baba8cf608f3",
   "metadata": {},
   "source": [
    "# Size of elments in array"
   ]
  },
  {
   "cell_type": "code",
   "execution_count": 9,
   "id": "1e6f106d-784c-4ed0-bf55-48464d4c30fa",
   "metadata": {},
   "outputs": [
    {
     "name": "stdout",
     "output_type": "stream",
     "text": [
      "8\n"
     ]
    }
   ],
   "source": [
    "print(a.itemsize)"
   ]
  },
  {
   "cell_type": "markdown",
   "id": "83db710f-0a71-4210-a1cf-6fbf8119801c",
   "metadata": {},
   "source": [
    "# Shape of array"
   ]
  },
  {
   "cell_type": "code",
   "execution_count": 10,
   "id": "e4d8f674-0066-42e5-87a7-88343a27343f",
   "metadata": {},
   "outputs": [
    {
     "name": "stdout",
     "output_type": "stream",
     "text": [
      "(3, 3)\n"
     ]
    }
   ],
   "source": [
    "print(a.shape)"
   ]
  },
  {
   "cell_type": "markdown",
   "id": "ec52b32d-f9f7-4692-bcfa-747182cda893",
   "metadata": {},
   "source": [
    "# Pick data-type of array elements"
   ]
  },
  {
   "cell_type": "code",
   "execution_count": 11,
   "id": "903617d3-b022-4f0c-8b43-a12142b5cac3",
   "metadata": {},
   "outputs": [
    {
     "name": "stdout",
     "output_type": "stream",
     "text": [
      "[[ 1. 99.  3.]\n",
      " [ 1.  2.  4.]\n",
      " [ 2. 45. 67.]]\n"
     ]
    }
   ],
   "source": [
    "a = np.array([[ 1, 99,  3],[ 1,  2,  4],[2, 45, 67]], dtype=np.float64)\n",
    "print(a)"
   ]
  },
  {
   "cell_type": "markdown",
   "id": "f9f2f59e-5e22-4639-b9b6-7577f7a37ac3",
   "metadata": {},
   "source": [
    "# Make a matrix of 0's"
   ]
  },
  {
   "cell_type": "code",
   "execution_count": 12,
   "id": "7e0ac4b1-eceb-40fb-8a33-cbb4254338d7",
   "metadata": {},
   "outputs": [
    {
     "name": "stdout",
     "output_type": "stream",
     "text": [
      "[[0 0 0 0]\n",
      " [0 0 0 0]\n",
      " [0 0 0 0]]\n"
     ]
    }
   ],
   "source": [
    "a = np.zeros((3,4), dtype=np.uint8)\n",
    "print(a)"
   ]
  },
  {
   "cell_type": "markdown",
   "id": "53bae4fe-8b15-4380-b15f-5770f177fb3c",
   "metadata": {},
   "source": [
    "# Make a matrix of 1's"
   ]
  },
  {
   "cell_type": "code",
   "execution_count": 13,
   "id": "a5bc5b98-5584-49fe-bf41-735209692177",
   "metadata": {},
   "outputs": [
    {
     "name": "stdout",
     "output_type": "stream",
     "text": [
      "[[1 1 1 1]\n",
      " [1 1 1 1]\n",
      " [1 1 1 1]]\n"
     ]
    }
   ],
   "source": [
    "a = np.ones((3,4), dtype=np.uint16)\n",
    "print(a)"
   ]
  },
  {
   "cell_type": "markdown",
   "id": "796d18bd-b49a-4e2d-82d4-6f04a56ca886",
   "metadata": {},
   "source": [
    "# Make an array in a range"
   ]
  },
  {
   "cell_type": "code",
   "execution_count": 14,
   "id": "d912ff13-d181-4cd3-8c9f-cef6d75cf70f",
   "metadata": {},
   "outputs": [
    {
     "name": "stdout",
     "output_type": "stream",
     "text": [
      "[0 1 2 3 4]\n",
      "[1 2 3 4]\n",
      "[1 3]\n",
      "[5 4 3 2]\n"
     ]
    }
   ],
   "source": [
    "a = np.arange(5)\n",
    "print(a)\n",
    "\n",
    "a = np.arange(1,5)\n",
    "print(a)\n",
    "\n",
    "a = np.arange(1,5,2)\n",
    "print(a)\n",
    "\n",
    "a = np.arange(5,1,-1)\n",
    "print(a)\n",
    "\n",
    "# arange() is similar to range()"
   ]
  },
  {
   "cell_type": "markdown",
   "id": "4956138a-10bf-424d-bf83-d3a3914a33e4",
   "metadata": {},
   "source": [
    "# String add"
   ]
  },
  {
   "cell_type": "code",
   "execution_count": 15,
   "id": "7673a0e8-b6b7-42fb-affa-35d233275681",
   "metadata": {},
   "outputs": [
    {
     "name": "stdout",
     "output_type": "stream",
     "text": [
      "['Hello World' 'NumPy Rocks!']\n"
     ]
    }
   ],
   "source": [
    "a = np.array([\"Hello\", \"NumPy\"])\n",
    "b = np.array([\" World\", \" Rocks!\"])\n",
    "result = np.char.add(a, b)\n",
    "print(result)"
   ]
  },
  {
   "cell_type": "markdown",
   "id": "a9c7ff35-757b-4e56-ae85-74f888cac08e",
   "metadata": {},
   "source": [
    "# String multiply"
   ]
  },
  {
   "cell_type": "code",
   "execution_count": 16,
   "id": "70f55ea4-cebc-464b-9f6e-140ca0f64de8",
   "metadata": {},
   "outputs": [
    {
     "name": "stdout",
     "output_type": "stream",
     "text": [
      "['HelloHelloHello' 'NumPyNumPyNumPy']\n"
     ]
    }
   ],
   "source": [
    "a = np.array([\"Hello\", \"NumPy\"])\n",
    "result = np.char.multiply(a, 3)\n",
    "print(result)"
   ]
  },
  {
   "cell_type": "markdown",
   "id": "aed80da4-9f3f-4dc5-80e2-c8ba6556608c",
   "metadata": {},
   "source": [
    "Write a function using NumPy that takes a string and a number as input, and returns the string with its characters repeated. For example, if the input is 'Hi' and 3, the output should be 'HHHiii'"
   ]
  },
  {
   "cell_type": "code",
   "execution_count": 17,
   "id": "fa3c6eab-907c-47c9-ab51-3a4292c2ef8c",
   "metadata": {},
   "outputs": [
    {
     "name": "stdout",
     "output_type": "stream",
     "text": [
      "HHHiii\n"
     ]
    }
   ],
   "source": [
    "def repeat_string(input_str, n):\n",
    "\n",
    "    char_array = np.array(list(input_str))\n",
    "\n",
    "    repeated_array = np.char.multiply(char_array, n)\n",
    "    result = ''.join(repeated_array)\n",
    "    return result\n",
    "\n",
    "output = repeat_string(\"Hi\", 3)\n",
    "print(output)"
   ]
  },
  {
   "cell_type": "markdown",
   "id": "2c74a184-710e-4cf9-8f95-3a90e98bf461",
   "metadata": {},
   "source": [
    "# Centering string"
   ]
  },
  {
   "cell_type": "code",
   "execution_count": 18,
   "id": "7a096bcd-de0e-4b62-9f17-61fda90cc1c9",
   "metadata": {},
   "outputs": [
    {
     "name": "stdout",
     "output_type": "stream",
     "text": [
      "**Hello***\n"
     ]
    }
   ],
   "source": [
    "a = np.char.center(\"Hello\", 10, fillchar='*')\n",
    "print(a)\n",
    "# here 10 is total, so len(stirng) + filler"
   ]
  },
  {
   "cell_type": "markdown",
   "id": "ea06f085-4c8c-4abb-84e2-0d036d18473a",
   "metadata": {},
   "source": [
    "# Capitalize"
   ]
  },
  {
   "cell_type": "code",
   "execution_count": 19,
   "id": "dcd38fa5-69eb-4850-8d9f-7df7829c2eb9",
   "metadata": {},
   "outputs": [
    {
     "name": "stdout",
     "output_type": "stream",
     "text": [
      "['Hello there' 'World is good']\n"
     ]
    }
   ],
   "source": [
    "import numpy as np\n",
    "\n",
    "result = np.char.capitalize([\"hello there\", \"world is good\"])\n",
    "print(result)"
   ]
  },
  {
   "cell_type": "markdown",
   "id": "54c8420c-1f8e-4aab-af9f-4b89d0d9d1e7",
   "metadata": {},
   "source": [
    "# Title"
   ]
  },
  {
   "cell_type": "code",
   "execution_count": 20,
   "id": "c92e1d05-5109-46df-b325-2e11df885819",
   "metadata": {},
   "outputs": [
    {
     "name": "stdout",
     "output_type": "stream",
     "text": [
      "Hello Numpy World\n"
     ]
    }
   ],
   "source": [
    "result = np.char.title(\"hello numpy world\")\n",
    "print(result)"
   ]
  },
  {
   "cell_type": "markdown",
   "id": "d6606761-e0bb-4dc6-993a-9d2f84217cec",
   "metadata": {},
   "source": [
    "# Upper"
   ]
  },
  {
   "cell_type": "code",
   "execution_count": 21,
   "id": "55a15a67-ac69-4aac-8acb-c08222d62f1a",
   "metadata": {},
   "outputs": [
    {
     "name": "stdout",
     "output_type": "stream",
     "text": [
      "HELLO NUMPY\n"
     ]
    }
   ],
   "source": [
    "result = np.char.upper(\"hello numpy\")\n",
    "print(result)"
   ]
  },
  {
   "cell_type": "markdown",
   "id": "62af343c-7afe-47bf-895e-db6944ec7e64",
   "metadata": {},
   "source": [
    "# Lower"
   ]
  },
  {
   "cell_type": "code",
   "execution_count": 22,
   "id": "98150942-9eff-4f45-95ac-eac3a99c54d0",
   "metadata": {},
   "outputs": [
    {
     "name": "stdout",
     "output_type": "stream",
     "text": [
      "hello numpy\n"
     ]
    }
   ],
   "source": [
    "result = np.char.lower(\"HELLO NUMPY\")\n",
    "print(result)"
   ]
  },
  {
   "cell_type": "markdown",
   "id": "bc938282-898f-4f90-8b2e-3001dd8853a2",
   "metadata": {},
   "source": [
    "# Split"
   ]
  },
  {
   "cell_type": "code",
   "execution_count": 23,
   "id": "a6074c01-78ef-4b33-9d4c-a8a8242047d7",
   "metadata": {},
   "outputs": [
    {
     "name": "stdout",
     "output_type": "stream",
     "text": [
      "['Hello', 'NumPy', 'World']\n",
      "['apple', 'banana', 'grape']\n"
     ]
    }
   ],
   "source": [
    "result = np.char.split(\"Hello NumPy World\")\n",
    "print(result)\n",
    "# default split is space\n",
    "\n",
    "result = np.char.split(\"apple,banana,grape\", sep=\",\")\n",
    "print(result)"
   ]
  },
  {
   "cell_type": "markdown",
   "id": "7a295915-19dc-4d1f-9a8e-4e27d59b36ae",
   "metadata": {},
   "source": [
    "# Split lines"
   ]
  },
  {
   "cell_type": "code",
   "execution_count": 24,
   "id": "45c48b26-f705-4132-9de5-7fc005736f13",
   "metadata": {},
   "outputs": [
    {
     "name": "stdout",
     "output_type": "stream",
     "text": [
      "['Hello', 'NumPy', 'World']\n"
     ]
    }
   ],
   "source": [
    "result = np.char.splitlines(\"Hello\\nNumPy\\nWorld\")\n",
    "print(result)"
   ]
  },
  {
   "cell_type": "markdown",
   "id": "7511ca93-6474-4613-80c3-e6894d9c3378",
   "metadata": {},
   "source": [
    "# Split each character"
   ]
  },
  {
   "cell_type": "code",
   "execution_count": 25,
   "id": "85693f01-68a1-4888-8199-0c0eb8417428",
   "metadata": {},
   "outputs": [
    {
     "name": "stdout",
     "output_type": "stream",
     "text": [
      "['N' 'u' 'm' 'P' 'y']\n"
     ]
    }
   ],
   "source": [
    "result = np.array(list(\"NumPy\"))\n",
    "print(result)"
   ]
  },
  {
   "cell_type": "markdown",
   "id": "852a5416-5e70-4be7-8583-486676ff1afa",
   "metadata": {},
   "source": [
    "# Strip"
   ]
  },
  {
   "cell_type": "code",
   "execution_count": 26,
   "id": "0255232f-e35f-4369-b37c-39f7e2e876c2",
   "metadata": {},
   "outputs": [
    {
     "name": "stdout",
     "output_type": "stream",
     "text": [
      "Hello NumPy\n",
      "Hello NumPy\n"
     ]
    }
   ],
   "source": [
    "result = np.char.strip(\"  Hello NumPy  \")\n",
    "print(result)\n",
    "# default strip is space\n",
    "\n",
    "result = np.char.strip(\"$$$Hello NumPy$$$\", \"$\")\n",
    "print(result)"
   ]
  },
  {
   "cell_type": "markdown",
   "id": "ea069365-6ef0-462b-ab25-fe24dbb3dd26",
   "metadata": {},
   "source": [
    "# Join string"
   ]
  },
  {
   "cell_type": "code",
   "execution_count": 27,
   "id": "d672c648-b769-4dc5-84d5-6ae1f617315d",
   "metadata": {},
   "outputs": [
    {
     "name": "stdout",
     "output_type": "stream",
     "text": [
      "N-u-m-P-y\n"
     ]
    }
   ],
   "source": [
    "result = np.char.join(\"-\", \"NumPy\")\n",
    "print(result)"
   ]
  },
  {
   "cell_type": "markdown",
   "id": "6b652212-c69a-460c-a24f-38f29d89aa81",
   "metadata": {},
   "source": [
    "# Join array"
   ]
  },
  {
   "cell_type": "code",
   "execution_count": 28,
   "id": "fc0fc04d-b3a0-4f36-9f13-c92321779a41",
   "metadata": {},
   "outputs": [
    {
     "name": "stdout",
     "output_type": "stream",
     "text": [
      "['H:e:l:l:o' 'W:o:r:l:d']\n"
     ]
    }
   ],
   "source": [
    "result = np.char.join(\":\", [\"Hello\", \"World\"])\n",
    "print(result)"
   ]
  },
  {
   "cell_type": "markdown",
   "id": "6011d63f-bc28-4be6-a080-1fdb2fe5d873",
   "metadata": {},
   "source": [
    "# Replace"
   ]
  },
  {
   "cell_type": "code",
   "execution_count": 29,
   "id": "7d9af218-3a5b-4121-9e28-6e76670dd934",
   "metadata": {},
   "outputs": [
    {
     "name": "stdout",
     "output_type": "stream",
     "text": [
      "['apple cake' 'banana cake']\n",
      "Hello World\n"
     ]
    }
   ],
   "source": [
    "result = np.char.replace([\"apple pie\", \"banana pie\"], \"pie\", \"cake\")\n",
    "print(result)\n",
    "\n",
    "result = np.char.replace(\"Hello NumPy\", \"NumPy\", \"World\")\n",
    "print(result)"
   ]
  },
  {
   "cell_type": "markdown",
   "id": "d0463016-8544-4422-b8da-4f63ad8bb8e1",
   "metadata": {},
   "source": [
    "# Changing array shape"
   ]
  },
  {
   "cell_type": "code",
   "execution_count": 30,
   "id": "b5fa1e76-5a6d-4a1a-bef7-010ff3da8805",
   "metadata": {},
   "outputs": [
    {
     "name": "stdout",
     "output_type": "stream",
     "text": [
      "Orignal:  [0 1 2 3 4 5 6 7 8]\n",
      "Modified\n",
      "[[0 1 2]\n",
      " [3 4 5]\n",
      " [6 7 8]]\n"
     ]
    }
   ],
   "source": [
    "a = np.arange(9)\n",
    "print(\"Orignal: \", a)\n",
    "\n",
    "b = a.reshape(3,3)\n",
    "print(\"Modified\")\n",
    "print(b)"
   ]
  },
  {
   "cell_type": "markdown",
   "id": "db958179-486c-449d-824b-c7c9faa09562",
   "metadata": {},
   "source": [
    "# Flatten"
   ]
  },
  {
   "cell_type": "code",
   "execution_count": 31,
   "id": "c3569625-6013-42db-8937-2ae8bf61fd0b",
   "metadata": {},
   "outputs": [
    {
     "name": "stdout",
     "output_type": "stream",
     "text": [
      "[0 1 2 3 4 5 6 7 8]\n",
      "[0 3 6 1 4 7 2 5 8]\n"
     ]
    }
   ],
   "source": [
    "print(b.flatten())\n",
    "\n",
    "# C -> row major order(default)\n",
    "\n",
    "print(b.flatten(order = 'F'))\n",
    "# F - column major order"
   ]
  },
  {
   "cell_type": "markdown",
   "id": "e48ee4a1-10e8-4076-aaee-fc8fea4e20ab",
   "metadata": {},
   "source": [
    "# Transpose"
   ]
  },
  {
   "cell_type": "code",
   "execution_count": 32,
   "id": "cad14d7a-6550-4229-ba2a-349be452e620",
   "metadata": {},
   "outputs": [
    {
     "name": "stdout",
     "output_type": "stream",
     "text": [
      "Orignal:\n",
      "[[ 0  1  2  3]\n",
      " [ 4  5  6  7]\n",
      " [ 8  9 10 11]]\n",
      "Transpose:\n",
      "[[ 0  4  8]\n",
      " [ 1  5  9]\n",
      " [ 2  6 10]\n",
      " [ 3  7 11]]\n"
     ]
    }
   ],
   "source": [
    "a = np.arange(12).reshape(3,4)\n",
    "print(\"Orignal:\")\n",
    "print(a)\n",
    "print(\"Transpose:\")\n",
    "print(np.transpose(a))"
   ]
  },
  {
   "cell_type": "markdown",
   "id": "fc9c22b5-76a0-43b0-afe4-de69de9936c7",
   "metadata": {},
   "source": [
    "# Rollaxis"
   ]
  },
  {
   "cell_type": "code",
   "execution_count": 33,
   "id": "6c4c0cc7-2662-4e48-9eda-adf5c0194032",
   "metadata": {},
   "outputs": [
    {
     "name": "stdout",
     "output_type": "stream",
     "text": [
      "Orignal shape: (2, 3, 4)\n",
      "After shape: (4, 2, 3)\n"
     ]
    }
   ],
   "source": [
    "a = np.arange(24).reshape(2, 3, 4)\n",
    "print(\"Orignal shape:\",a.shape)\n",
    "\n",
    "a = np.rollaxis(a, axis=2, start=0)\n",
    "# this moves axis in 2nd place to 0th place\n",
    "print(\"After shape:\",a.shape)"
   ]
  },
  {
   "cell_type": "markdown",
   "id": "d557faa5-3eb1-45b8-8555-07c91a1ccda8",
   "metadata": {},
   "source": [
    "# Swapaxes"
   ]
  },
  {
   "cell_type": "code",
   "execution_count": 34,
   "id": "f4501280-3b66-4cb9-b3c1-c124e0664fc5",
   "metadata": {},
   "outputs": [
    {
     "name": "stdout",
     "output_type": "stream",
     "text": [
      "Orignal shape: (2, 3, 4)\n",
      "After shape: (4, 3, 2)\n"
     ]
    }
   ],
   "source": [
    "a = np.arange(24).reshape(2, 3, 4)\n",
    "print(\"Orignal shape:\",a.shape)\n",
    "\n",
    "a = np.swapaxes(a, axis1=0,axis2=2)\n",
    "# swaps axes 0 and 2\n",
    "print(\"After shape:\",a.shape)"
   ]
  },
  {
   "cell_type": "markdown",
   "id": "9f037807-a530-42e0-8f8d-b22a9b1327f1",
   "metadata": {},
   "source": [
    "# Arithmetic Operations"
   ]
  },
  {
   "cell_type": "code",
   "execution_count": 35,
   "id": "d6c31cfa-574d-46a9-91fd-9b1f2e5658da",
   "metadata": {},
   "outputs": [
    {
     "name": "stdout",
     "output_type": "stream",
     "text": [
      "a:\n",
      " [[0 1 2]\n",
      " [3 4 5]\n",
      " [6 7 8]]\n",
      "b:\n",
      " [  10  100 1000]\n"
     ]
    }
   ],
   "source": [
    "a = np.arange(9).reshape(3,3)\n",
    "b = np.array([10,100,1000])\n",
    "print(\"a:\\n\",a)\n",
    "print(\"b:\\n\",b)"
   ]
  },
  {
   "cell_type": "markdown",
   "id": "7825ced5-3231-43fa-9772-fd2514aa66fe",
   "metadata": {},
   "source": [
    "# Add"
   ]
  },
  {
   "cell_type": "code",
   "execution_count": 36,
   "id": "bbb817e0-8a63-41dc-a1e7-8ba99e14d21c",
   "metadata": {},
   "outputs": [
    {
     "name": "stdout",
     "output_type": "stream",
     "text": [
      "[[  10  101 1002]\n",
      " [  13  104 1005]\n",
      " [  16  107 1008]]\n"
     ]
    }
   ],
   "source": [
    "print(np.add(a,b))"
   ]
  },
  {
   "cell_type": "markdown",
   "id": "eb39bf7f-364c-4e9b-8969-3107bca26f7a",
   "metadata": {},
   "source": [
    "# Subtract"
   ]
  },
  {
   "cell_type": "code",
   "execution_count": 37,
   "id": "b8cfcf94-6a07-47f8-9aa2-86b08e00b695",
   "metadata": {},
   "outputs": [
    {
     "name": "stdout",
     "output_type": "stream",
     "text": [
      "[[ -10  -99 -998]\n",
      " [  -7  -96 -995]\n",
      " [  -4  -93 -992]]\n"
     ]
    }
   ],
   "source": [
    "print(np.subtract(a,b))"
   ]
  },
  {
   "cell_type": "markdown",
   "id": "042b478d-8fe8-40d8-a885-332a0c2c7650",
   "metadata": {},
   "source": [
    "# Multiply"
   ]
  },
  {
   "cell_type": "code",
   "execution_count": 38,
   "id": "4e3be1a0-c3ad-4088-87c9-83dc6f0067e4",
   "metadata": {},
   "outputs": [
    {
     "name": "stdout",
     "output_type": "stream",
     "text": [
      "[[   0  100 2000]\n",
      " [  30  400 5000]\n",
      " [  60  700 8000]]\n"
     ]
    }
   ],
   "source": [
    "print(np.multiply(a,b))"
   ]
  },
  {
   "cell_type": "markdown",
   "id": "95cc84a4-539a-49ea-990a-c6721638fb5d",
   "metadata": {},
   "source": [
    "# Divide"
   ]
  },
  {
   "cell_type": "code",
   "execution_count": 39,
   "id": "daf3c160-7332-48ab-9b82-b90dabc6af9a",
   "metadata": {},
   "outputs": [
    {
     "name": "stdout",
     "output_type": "stream",
     "text": [
      "[[0.    0.01  0.002]\n",
      " [0.3   0.04  0.005]\n",
      " [0.6   0.07  0.008]]\n"
     ]
    }
   ],
   "source": [
    "print(np.divide(a,b))"
   ]
  },
  {
   "cell_type": "markdown",
   "id": "3243ea40-0140-4ec5-80b7-20ae5d9cfac0",
   "metadata": {},
   "source": [
    "# Slicing"
   ]
  },
  {
   "cell_type": "code",
   "execution_count": 40,
   "id": "8a44145b-501f-43cd-9460-27bada28ca8f",
   "metadata": {},
   "outputs": [
    {
     "name": "stdout",
     "output_type": "stream",
     "text": [
      "[ 0  1  2  3  4  5  6  7  8  9 10 11 12 13 14 15 16 17 18 19]\n"
     ]
    }
   ],
   "source": [
    "a = np.arange(20)\n",
    "print(a)"
   ]
  },
  {
   "cell_type": "code",
   "execution_count": 41,
   "id": "63d6be91-13f6-4651-8c4e-e9e4dbe4befd",
   "metadata": {},
   "outputs": [
    {
     "name": "stdout",
     "output_type": "stream",
     "text": [
      "[ 4  5  6  7  8  9 10 11 12 13 14 15 16 17 18 19]\n"
     ]
    }
   ],
   "source": [
    "print(a[4:])"
   ]
  },
  {
   "cell_type": "code",
   "execution_count": 42,
   "id": "5d2acc51-bf05-467d-8f15-7b4587b51fc9",
   "metadata": {},
   "outputs": [
    {
     "name": "stdout",
     "output_type": "stream",
     "text": [
      "[0 1 2 3]\n"
     ]
    }
   ],
   "source": [
    "print(a[:4])"
   ]
  },
  {
   "cell_type": "code",
   "execution_count": 43,
   "id": "1cbd74d0-efd9-4f35-bc45-fa0246013672",
   "metadata": {},
   "outputs": [
    {
     "name": "stdout",
     "output_type": "stream",
     "text": [
      "5\n"
     ]
    }
   ],
   "source": [
    "print(a[5])"
   ]
  },
  {
   "cell_type": "code",
   "execution_count": 44,
   "id": "55627dbe-26a7-4ba3-9549-b4c35312f07e",
   "metadata": {},
   "outputs": [
    {
     "name": "stdout",
     "output_type": "stream",
     "text": [
      "[ 2  5  8 11]\n"
     ]
    }
   ],
   "source": [
    "s = slice(2,12,3)\n",
    "print(a[s])"
   ]
  },
  {
   "cell_type": "markdown",
   "id": "cdc2ad5a-21cb-4e24-b31e-5b200d2547e3",
   "metadata": {},
   "source": [
    "# Iterating over Array"
   ]
  },
  {
   "cell_type": "code",
   "execution_count": 45,
   "id": "c2164b55-19a2-493c-ae09-37aced038240",
   "metadata": {},
   "outputs": [
    {
     "name": "stdout",
     "output_type": "stream",
     "text": [
      "[[ 0  5 10]\n",
      " [15 20 25]\n",
      " [30 35 40]]\n"
     ]
    }
   ],
   "source": [
    "a = np.arange(0,45,5).reshape(3,3)\n",
    "print(a)"
   ]
  },
  {
   "cell_type": "code",
   "execution_count": 46,
   "id": "52f71aa0-e60e-4ff3-ab57-fec6999ed396",
   "metadata": {},
   "outputs": [
    {
     "name": "stdout",
     "output_type": "stream",
     "text": [
      "0\n",
      "5\n",
      "10\n",
      "15\n",
      "20\n",
      "25\n",
      "30\n",
      "35\n",
      "40\n"
     ]
    }
   ],
   "source": [
    "for i in np.nditer(a):\n",
    "    print(i)"
   ]
  },
  {
   "cell_type": "markdown",
   "id": "60c6c052-7647-4e4b-ae50-1c8766a516dc",
   "metadata": {},
   "source": [
    "# Iterating C-order(row order) default"
   ]
  },
  {
   "cell_type": "code",
   "execution_count": 47,
   "id": "0c840dda-1d27-4f62-9a0f-f4d4ccd81244",
   "metadata": {
    "scrolled": true
   },
   "outputs": [
    {
     "name": "stdout",
     "output_type": "stream",
     "text": [
      "0\n",
      "5\n",
      "10\n",
      "15\n",
      "20\n",
      "25\n",
      "30\n",
      "35\n",
      "40\n"
     ]
    }
   ],
   "source": [
    "for i in np.nditer(a, order='C'):\n",
    "    print(i)"
   ]
  },
  {
   "cell_type": "markdown",
   "id": "91024503-330d-4bb4-a921-255a5f64bf2c",
   "metadata": {},
   "source": [
    "# Iterating F-order(Column order)"
   ]
  },
  {
   "cell_type": "code",
   "execution_count": 48,
   "id": "e6ccbb21-d1e2-4143-8c11-d5e1dd5ae1eb",
   "metadata": {},
   "outputs": [
    {
     "name": "stdout",
     "output_type": "stream",
     "text": [
      "0\n",
      "15\n",
      "30\n",
      "5\n",
      "20\n",
      "35\n",
      "10\n",
      "25\n",
      "40\n"
     ]
    }
   ],
   "source": [
    "for i in np.nditer(a, order='F'):\n",
    "    print(i)"
   ]
  },
  {
   "cell_type": "markdown",
   "id": "944437d8-bcb8-4d48-ba49-364bf0b82dba",
   "metadata": {},
   "source": [
    "# Concatanate"
   ]
  },
  {
   "cell_type": "code",
   "execution_count": 49,
   "id": "aed6d7e3-d872-465a-ac70-67b3a58ac93f",
   "metadata": {},
   "outputs": [
    {
     "name": "stdout",
     "output_type": "stream",
     "text": [
      "a\n",
      "[[1 2]\n",
      " [3 4]]\n",
      "b\n",
      "[[5 6]\n",
      " [7 8]]\n"
     ]
    }
   ],
   "source": [
    "a = np.arange(1,5).reshape(2,2)\n",
    "print(f\"a\\n{a}\")\n",
    "b = np.arange(5,9).reshape(2,2)\n",
    "print(f\"b\\n{b}\")"
   ]
  },
  {
   "cell_type": "markdown",
   "id": "4a4f4ff8-0ba1-4608-b971-1a71bc0a9630",
   "metadata": {},
   "source": [
    "# Concatanate along axis=0(default)"
   ]
  },
  {
   "cell_type": "code",
   "execution_count": 50,
   "id": "c0661d51-af36-4c00-8031-824f2ceada8f",
   "metadata": {},
   "outputs": [
    {
     "name": "stdout",
     "output_type": "stream",
     "text": [
      "\n",
      "Concanat a and b axis=0\n",
      "[[1 2]\n",
      " [3 4]\n",
      " [5 6]\n",
      " [7 8]]\n"
     ]
    }
   ],
   "source": [
    "print(f\"\\nConcanat a and b axis=0\\n{np.concatenate((a,b))}\")"
   ]
  },
  {
   "cell_type": "markdown",
   "id": "181c8103-6cab-47c7-b0a6-2a09fed146a8",
   "metadata": {},
   "source": [
    "# Concatanate along axis=1"
   ]
  },
  {
   "cell_type": "code",
   "execution_count": 51,
   "id": "718b3e92-8017-4402-9373-45521ca5fd1a",
   "metadata": {},
   "outputs": [
    {
     "name": "stdout",
     "output_type": "stream",
     "text": [
      "\n",
      "Concanat a and b axis=1\n",
      "[[1 2 5 6]\n",
      " [3 4 7 8]]\n"
     ]
    }
   ],
   "source": [
    "print(f\"\\nConcanat a and b axis=1\\n{np.concatenate((a,b), axis=1)}\")"
   ]
  },
  {
   "cell_type": "markdown",
   "id": "6f75df3e-ccbc-4afa-81e3-37edb4b9e9f1",
   "metadata": {},
   "source": [
    "# Split into Equal Parts"
   ]
  },
  {
   "cell_type": "code",
   "execution_count": 52,
   "id": "7f714a93-d77e-4a67-b6a4-2b97fb04ef2a",
   "metadata": {},
   "outputs": [
    {
     "name": "stdout",
     "output_type": "stream",
     "text": [
      "[array([0, 1, 2]), array([3, 4, 5]), array([6, 7, 8])]\n"
     ]
    }
   ],
   "source": [
    "a = np.arange(9)\n",
    "print(np.split(a,3))"
   ]
  },
  {
   "cell_type": "markdown",
   "id": "8b0314b3-ff61-49ee-811d-586e45194323",
   "metadata": {},
   "source": [
    "# Split into Unequal Parts Using Indices"
   ]
  },
  {
   "cell_type": "code",
   "execution_count": 53,
   "id": "0828a08b-f182-4904-aabb-9a26a7d1e058",
   "metadata": {},
   "outputs": [
    {
     "name": "stdout",
     "output_type": "stream",
     "text": [
      "[array([0, 1]), array([2, 3, 4]), array([5, 6, 7, 8])]\n"
     ]
    }
   ],
   "source": [
    "print(np.split(a, [2, 5]))\n",
    "\n",
    "# it will give 2 elements then till 5 so (5 - 2 = 3)\n",
    "# 2(0,1) 3(2,3,4) remaining"
   ]
  },
  {
   "cell_type": "code",
   "execution_count": 54,
   "id": "20bbc494-7bbb-4390-b171-f757fc0d8085",
   "metadata": {},
   "outputs": [
    {
     "name": "stdout",
     "output_type": "stream",
     "text": [
      "[array([0, 1]), array([2, 3, 4]), array([5, 6]), array([7, 8])]\n"
     ]
    }
   ],
   "source": [
    "print(np.split(a, [2, 5, 7]))\n",
    "# 2's array, 3's array, 2's array\n",
    "# 2 , 3(5-2=3), 7(7-5=2), remaining"
   ]
  },
  {
   "cell_type": "markdown",
   "id": "7a400275-22b8-4bbd-bdfd-c2e7e4c82c54",
   "metadata": {},
   "source": [
    "# Split a 2D Array"
   ]
  },
  {
   "cell_type": "code",
   "execution_count": 55,
   "id": "187a5507-829a-41b4-8629-7fbdcb59d7c7",
   "metadata": {
    "scrolled": true
   },
   "outputs": [
    {
     "name": "stdout",
     "output_type": "stream",
     "text": [
      "[array([[1, 2, 3, 4]]), array([[5, 6, 7, 8]])]\n",
      "[array([[1, 2],\n",
      "       [5, 6]]), array([[3, 4],\n",
      "       [7, 8]])]\n"
     ]
    }
   ],
   "source": [
    "a = np.array([[1, 2, 3, 4], [5, 6, 7, 8]])\n",
    "# Split along rows (default axis=0)\n",
    "print(np.split(a, 2))\n",
    "\n",
    "# Split along columns (axis=1)\n",
    "print(np.split(a, 2, axis=1))"
   ]
  },
  {
   "cell_type": "markdown",
   "id": "d482643e-d8b0-4e60-bccc-91e622c7a67a",
   "metadata": {},
   "source": [
    "# Resize"
   ]
  },
  {
   "cell_type": "code",
   "execution_count": 56,
   "id": "861bf715-c2da-494e-9934-67a8e4cad039",
   "metadata": {},
   "outputs": [
    {
     "name": "stdout",
     "output_type": "stream",
     "text": [
      "a\n",
      "[[1 2 3]\n",
      " [4 5 6]]\n",
      "shape:(2, 3)\n",
      "b\n",
      "[[1 2]\n",
      " [3 4]\n",
      " [5 6]]\n",
      "shape:(3, 2)\n"
     ]
    }
   ],
   "source": [
    "a = np.array([[1,2,3],[4,5,6]])\n",
    "print(f\"a\\n{a}\\nshape:{a.shape}\")\n",
    "\n",
    "b = np.resize(a,(3,2))\n",
    "print(f\"b\\n{b}\\nshape:{b.shape}\")"
   ]
  },
  {
   "cell_type": "markdown",
   "id": "7cb469b1-0bc1-4c34-919a-eab21925371d",
   "metadata": {},
   "source": [
    "# Resize not matching dimension"
   ]
  },
  {
   "cell_type": "code",
   "execution_count": 57,
   "id": "9ddcc85d-4fd7-4483-a554-f207cf53f93c",
   "metadata": {},
   "outputs": [
    {
     "name": "stdout",
     "output_type": "stream",
     "text": [
      "c\n",
      "[[1 2 3]\n",
      " [4 5 6]\n",
      " [1 2 3]]\n",
      "shape:(3, 3)\n"
     ]
    }
   ],
   "source": [
    "c = np.resize(a,(3,3))\n",
    "print(f\"c\\n{c}\\nshape:{c.shape}\")\n",
    "\n",
    "# it starts repeating "
   ]
  },
  {
   "cell_type": "markdown",
   "id": "9f1c986c-862a-4d67-8310-a9c2d375206f",
   "metadata": {},
   "source": [
    "# Linspace"
   ]
  },
  {
   "cell_type": "code",
   "execution_count": 58,
   "id": "59813c27-f364-479e-9dfb-b0225bb56b49",
   "metadata": {},
   "outputs": [
    {
     "name": "stdout",
     "output_type": "stream",
     "text": [
      "[ 0.   2.5  5.   7.5 10. ]\n"
     ]
    }
   ],
   "source": [
    "a = np.linspace(0,10,5)\n",
    "# generates equally spaced values between 0 - 10 (both included) and 5 numbers\n",
    "print(a)"
   ]
  },
  {
   "cell_type": "markdown",
   "id": "7bfcd693-8238-471d-ba05-4d23b98f9a68",
   "metadata": {},
   "source": [
    "# Sum"
   ]
  },
  {
   "cell_type": "code",
   "execution_count": 59,
   "id": "3f27302a-7c8b-4a59-9e9f-352ae1cf27bd",
   "metadata": {},
   "outputs": [
    {
     "name": "stdout",
     "output_type": "stream",
     "text": [
      "[5 7 9]\n",
      "[ 6 15]\n"
     ]
    }
   ],
   "source": [
    "a = np.array([[1,2,3],[4,5,6]])\n",
    "print(a.sum(axis=0))\n",
    "print(a.sum(axis=1))"
   ]
  },
  {
   "cell_type": "markdown",
   "id": "b1d1a245-21a6-45be-847e-d201044bed70",
   "metadata": {},
   "source": [
    "# Square root"
   ]
  },
  {
   "cell_type": "code",
   "execution_count": 60,
   "id": "249b1a6f-b829-4c73-bfbc-2b169b7a5697",
   "metadata": {},
   "outputs": [
    {
     "name": "stdout",
     "output_type": "stream",
     "text": [
      "[[1.         1.41421356 1.73205081]\n",
      " [2.         2.23606798 2.44948974]]\n"
     ]
    }
   ],
   "source": [
    "a = np.array([[1,2,3],[4,5,6]])\n",
    "print(np.sqrt(a))"
   ]
  },
  {
   "cell_type": "markdown",
   "id": "0d2ee25e-0a7d-4005-8d28-e3768a290564",
   "metadata": {},
   "source": [
    "# Standard Deviation"
   ]
  },
  {
   "cell_type": "code",
   "execution_count": 61,
   "id": "dbdb4e1a-8ea0-42d9-92ee-f6ebe68803df",
   "metadata": {},
   "outputs": [
    {
     "name": "stdout",
     "output_type": "stream",
     "text": [
      "1.707825127659933\n"
     ]
    }
   ],
   "source": [
    "print(np.std(a))"
   ]
  },
  {
   "cell_type": "markdown",
   "id": "1682c823-1753-4ef9-9dbf-b8c5b36d493f",
   "metadata": {},
   "source": [
    "# Log"
   ]
  },
  {
   "cell_type": "code",
   "execution_count": 62,
   "id": "b4256488-5b46-418d-acac-a9eb482a0cd4",
   "metadata": {},
   "outputs": [
    {
     "name": "stdout",
     "output_type": "stream",
     "text": [
      "[[0.         0.30103    0.47712125]\n",
      " [0.60205999 0.69897    0.77815125]]\n",
      "[[0.         1.         1.5849625 ]\n",
      " [2.         2.32192809 2.5849625 ]]\n"
     ]
    }
   ],
   "source": [
    "print(np.log10(a))\n",
    "print(np.log2(a))"
   ]
  },
  {
   "cell_type": "markdown",
   "id": "3631dabf-95bc-4156-9284-b8947189659c",
   "metadata": {},
   "source": [
    "# ***The End***"
   ]
  }
 ],
 "metadata": {
  "kernelspec": {
   "display_name": "Python 3 (ipykernel)",
   "language": "python",
   "name": "python3"
  },
  "language_info": {
   "codemirror_mode": {
    "name": "ipython",
    "version": 3
   },
   "file_extension": ".py",
   "mimetype": "text/x-python",
   "name": "python",
   "nbconvert_exporter": "python",
   "pygments_lexer": "ipython3",
   "version": "3.12.6"
  }
 },
 "nbformat": 4,
 "nbformat_minor": 5
}
