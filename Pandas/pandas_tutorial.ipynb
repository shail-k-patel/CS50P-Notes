{
 "cells": [
  {
   "cell_type": "code",
   "execution_count": 1,
   "id": "0e120a56-4882-4456-b3d7-6f13ee42655a",
   "metadata": {},
   "outputs": [
    {
     "name": "stdout",
     "output_type": "stream",
     "text": [
      "Hello World\n"
     ]
    }
   ],
   "source": [
    "print(\"Hello World\")"
   ]
  },
  {
   "cell_type": "markdown",
   "id": "cd472441-616c-45f6-921f-1de3d5937616",
   "metadata": {},
   "source": [
    "# Importing ***pandas***"
   ]
  },
  {
   "cell_type": "code",
   "execution_count": 2,
   "id": "5da9a5a2-b571-48b7-88d9-66acd2606c26",
   "metadata": {},
   "outputs": [],
   "source": [
    "import pandas as pd"
   ]
  },
  {
   "cell_type": "code",
   "execution_count": 3,
   "id": "211b7101-b01a-4e1d-9c44-39cf8dcbaa1c",
   "metadata": {},
   "outputs": [
    {
     "data": {
      "text/plain": [
       "'2.2.3'"
      ]
     },
     "execution_count": 3,
     "metadata": {},
     "output_type": "execute_result"
    }
   ],
   "source": [
    "pd.__version__"
   ]
  },
  {
   "cell_type": "markdown",
   "id": "a9700483-0155-4fab-9ba6-53baceecde1e",
   "metadata": {},
   "source": [
    "# Creating Series"
   ]
  },
  {
   "cell_type": "code",
   "execution_count": 4,
   "id": "d7f39b98-20f0-4378-9e18-20053581fa0a",
   "metadata": {},
   "outputs": [
    {
     "name": "stdout",
     "output_type": "stream",
     "text": [
      "0    0\n",
      "1    1\n",
      "2    2\n",
      "3    3\n",
      "4    4\n",
      "dtype: int64\n"
     ]
    }
   ],
   "source": [
    "s1 = pd.Series([0,1,2,3,4])\n",
    "print(s1)"
   ]
  },
  {
   "cell_type": "markdown",
   "id": "a9269eb4-bafb-4654-a9ce-7f96526c12ff",
   "metadata": {},
   "source": [
    "# Series - index"
   ]
  },
  {
   "cell_type": "code",
   "execution_count": 5,
   "id": "1c234885-a940-4513-b8e7-4968f31ca476",
   "metadata": {},
   "outputs": [
    {
     "name": "stdout",
     "output_type": "stream",
     "text": [
      "a    0\n",
      "b    1\n",
      "c    2\n",
      "d    3\n",
      "e    4\n",
      "dtype: int64\n"
     ]
    }
   ],
   "source": [
    "s1 = pd.Series([0,1,2,3,4], index=['a','b','c','d','e'])\n",
    "print(s1)"
   ]
  },
  {
   "cell_type": "code",
   "execution_count": 6,
   "id": "b9bfeb8f-ca9e-4e0f-9af9-6f674c239dbf",
   "metadata": {},
   "outputs": [
    {
     "name": "stdout",
     "output_type": "stream",
     "text": [
      "a   -1.418079\n",
      "b   -0.187368\n",
      "c    0.492343\n",
      "d    0.520738\n",
      "e    0.910747\n",
      "dtype: float64\n"
     ]
    }
   ],
   "source": [
    "import numpy as np\n",
    "n = np.random.randn(5)\n",
    "index=['a','b','c','d','e']\n",
    "\n",
    "s = pd.Series(n,index)\n",
    "print(s)"
   ]
  },
  {
   "cell_type": "markdown",
   "id": "a13f5a8e-3e90-43f7-977c-7be622227fcc",
   "metadata": {},
   "source": [
    "# Series from dictonary"
   ]
  },
  {
   "cell_type": "code",
   "execution_count": 7,
   "id": "79d50ef4-48f0-44b6-bf91-008b9f2244ac",
   "metadata": {},
   "outputs": [
    {
     "name": "stdout",
     "output_type": "stream",
     "text": [
      "a    1\n",
      "b    2\n",
      "c    3\n",
      "d    4\n",
      "dtype: int64\n"
     ]
    }
   ],
   "source": [
    "d = {'a':1,'b':2,'c':3,'d':4}\n",
    "s3 = pd.Series(d)\n",
    "print(s3)"
   ]
  },
  {
   "cell_type": "markdown",
   "id": "8ca7ec3b-2ceb-4635-b09b-868e865d2b85",
   "metadata": {},
   "source": [
    "# Modify Index"
   ]
  },
  {
   "cell_type": "code",
   "execution_count": 8,
   "id": "6bb60111-6858-48cc-a450-ce8892587b9e",
   "metadata": {},
   "outputs": [
    {
     "name": "stdout",
     "output_type": "stream",
     "text": [
      "Before:\n",
      "a    0\n",
      "b    1\n",
      "c    2\n",
      "d    3\n",
      "e    4\n",
      "dtype: int64\n",
      "After:\n",
      "A    0\n",
      "B    1\n",
      "C    2\n",
      "D    3\n",
      "E    4\n",
      "dtype: int64\n"
     ]
    }
   ],
   "source": [
    "print(f\"Before:\\n{s1}\")\n",
    "\n",
    "s1.index = ['A','B','C','D','E']\n",
    "print(f\"After:\\n{s1}\")"
   ]
  },
  {
   "cell_type": "markdown",
   "id": "ce95572d-a229-4f3a-abac-eb0f84e73b2c",
   "metadata": {},
   "source": [
    "# Slicing (same as List)"
   ]
  },
  {
   "cell_type": "code",
   "execution_count": 9,
   "id": "27913d71-b669-437c-8cc3-b0645af884a1",
   "metadata": {},
   "outputs": [
    {
     "name": "stdout",
     "output_type": "stream",
     "text": [
      "A    0\n",
      "B    1\n",
      "C    2\n",
      "dtype: int64\n"
     ]
    }
   ],
   "source": [
    "a = s1[:3]\n",
    "print(a)"
   ]
  },
  {
   "cell_type": "markdown",
   "id": "a5be19d9-2b2c-4682-a9f3-f5975e6b1fbf",
   "metadata": {},
   "source": [
    "# Concat"
   ]
  },
  {
   "cell_type": "code",
   "execution_count": 10,
   "id": "e20e7f96-099b-4bd2-abca-e66647bda66f",
   "metadata": {},
   "outputs": [
    {
     "name": "stdout",
     "output_type": "stream",
     "text": [
      "A    0\n",
      "B    1\n",
      "C    2\n",
      "D    3\n",
      "E    4\n",
      "a    1\n",
      "b    2\n",
      "c    3\n",
      "d    4\n",
      "dtype: int64\n",
      "0    0\n",
      "1    1\n",
      "2    2\n",
      "3    3\n",
      "4    4\n",
      "5    1\n",
      "6    2\n",
      "7    3\n",
      "8    4\n",
      "dtype: int64\n"
     ]
    }
   ],
   "source": [
    "print(pd.concat([s1,s3]))\n",
    "print(pd.concat([s1,s3],ignore_index=True)) # this starts index from 0\n",
    "# apppend has been depricated in latest version of pandas"
   ]
  },
  {
   "cell_type": "markdown",
   "id": "f2dfdbbd-b2cd-452a-8759-76a6c7868b48",
   "metadata": {},
   "source": [
    "# Drop"
   ]
  },
  {
   "cell_type": "code",
   "execution_count": 11,
   "id": "5fa8f716-7cfc-4a9c-acdd-51a5e189f6ff",
   "metadata": {},
   "outputs": [
    {
     "name": "stdout",
     "output_type": "stream",
     "text": [
      "a    1\n",
      "c    3\n",
      "d    4\n",
      "dtype: int64\n"
     ]
    }
   ],
   "source": [
    "s4 = s3.drop('b') # doesn't make changes to orignal\n",
    "print(s4)"
   ]
  },
  {
   "cell_type": "markdown",
   "id": "faff3fe9-03e0-484e-89d1-40f91dc29183",
   "metadata": {},
   "source": [
    "# Series Operations"
   ]
  },
  {
   "cell_type": "code",
   "execution_count": 12,
   "id": "6acbf9a5-5a63-4f32-a3e8-77aedfcd5024",
   "metadata": {},
   "outputs": [],
   "source": [
    "s5 = pd.Series([10, 20, 30])\n",
    "s6 = pd.Series([100, 200, 300, 400, 500])"
   ]
  },
  {
   "cell_type": "markdown",
   "id": "4eff7ad5-9c76-4078-b241-8e35a37d3a7f",
   "metadata": {},
   "source": [
    "# Add"
   ]
  },
  {
   "cell_type": "code",
   "execution_count": 13,
   "id": "b376e1e5-6c92-474a-8ec7-0d9229e8540f",
   "metadata": {},
   "outputs": [
    {
     "name": "stdout",
     "output_type": "stream",
     "text": [
      "0    110.0\n",
      "1    220.0\n",
      "2    330.0\n",
      "3      NaN\n",
      "4      NaN\n",
      "dtype: float64\n"
     ]
    }
   ],
   "source": [
    "print(s5.add(s6)) # Where number of column don't match NaN"
   ]
  },
  {
   "cell_type": "markdown",
   "id": "35ded991-29c8-4fef-a015-27695c727d89",
   "metadata": {},
   "source": [
    "# Sub"
   ]
  },
  {
   "cell_type": "code",
   "execution_count": 14,
   "id": "499e7b36-d943-4187-bd49-f5ae3c3e053a",
   "metadata": {},
   "outputs": [
    {
     "name": "stdout",
     "output_type": "stream",
     "text": [
      "0    -90.0\n",
      "1   -180.0\n",
      "2   -270.0\n",
      "3      NaN\n",
      "4      NaN\n",
      "dtype: float64\n"
     ]
    }
   ],
   "source": [
    "print(s5.sub(s6))"
   ]
  },
  {
   "cell_type": "markdown",
   "id": "c738d0f7-b157-42ee-a520-ffd4c42d457e",
   "metadata": {},
   "source": [
    "# Mul"
   ]
  },
  {
   "cell_type": "code",
   "execution_count": 15,
   "id": "93a14298-087e-4221-9779-69cabee25e47",
   "metadata": {},
   "outputs": [
    {
     "name": "stdout",
     "output_type": "stream",
     "text": [
      "0    1000.0\n",
      "1    4000.0\n",
      "2    9000.0\n",
      "3       NaN\n",
      "4       NaN\n",
      "dtype: float64\n"
     ]
    }
   ],
   "source": [
    "print(s5.mul(s6))"
   ]
  },
  {
   "cell_type": "markdown",
   "id": "e135c432-fffb-4b30-96d1-653b53cd3f23",
   "metadata": {},
   "source": [
    "# Div"
   ]
  },
  {
   "cell_type": "code",
   "execution_count": 16,
   "id": "ef6f958a-9057-4edd-b4ad-5f2c0373b168",
   "metadata": {},
   "outputs": [
    {
     "name": "stdout",
     "output_type": "stream",
     "text": [
      "0    0.1\n",
      "1    0.1\n",
      "2    0.1\n",
      "3    NaN\n",
      "4    NaN\n",
      "dtype: float64\n"
     ]
    }
   ],
   "source": [
    "print(s5.div(s6))"
   ]
  },
  {
   "cell_type": "markdown",
   "id": "b9a399cd-7cba-4d7d-83b3-17375dbc9cce",
   "metadata": {},
   "source": [
    "# Mean Median Mode Max Min"
   ]
  },
  {
   "cell_type": "code",
   "execution_count": 17,
   "id": "f9424dd2-f68e-4059-893e-cb56222f103c",
   "metadata": {},
   "outputs": [
    {
     "name": "stdout",
     "output_type": "stream",
     "text": [
      "Mean: 300.0\n",
      "Median: 300.0\n",
      "Max: 500\n",
      "Min: 100\n",
      "\n",
      "Mode:\n",
      " 0   -1.418079\n",
      "1   -0.187368\n",
      "2    0.492343\n",
      "3    0.520738\n",
      "4    0.910747\n",
      "dtype: float64 \n",
      "\n"
     ]
    }
   ],
   "source": [
    "print(\"Mean:\", s6.mean())\n",
    "print(\"Median:\", s6.median())\n",
    "\n",
    "print(\"Max:\", s6.max())\n",
    "print(\"Min:\", s6.min())\n",
    "\n",
    "print(\"\\nMode:\\n\",s.mode(),\"\\n\")\n",
    "# if NaN values are present they will be ignored"
   ]
  },
  {
   "cell_type": "markdown",
   "id": "9f4c042e-02e8-458e-9fe5-a0c60fb1cc02",
   "metadata": {},
   "source": [
    "# Dataframe From Dictonary"
   ]
  },
  {
   "cell_type": "code",
   "execution_count": 18,
   "id": "2cfdf888-014e-4be4-80f2-735f44870d55",
   "metadata": {},
   "outputs": [
    {
     "name": "stdout",
     "output_type": "stream",
     "text": [
      "      Name  Age         City\n",
      "0    Alice   25     New York\n",
      "1      Bob   30  Los Angeles\n",
      "2  Charlie   35      Chicago\n"
     ]
    }
   ],
   "source": [
    "data = {\n",
    "    'Name': ['Alice', 'Bob', 'Charlie'],\n",
    "    'Age': [25, 30, 35],\n",
    "    'City': ['New York', 'Los Angeles', 'Chicago']\n",
    "}\n",
    "\n",
    "df = pd.DataFrame(data)\n",
    "print(df)"
   ]
  },
  {
   "cell_type": "markdown",
   "id": "48a9f4e4-c52b-41a7-93b5-4f57b43541f0",
   "metadata": {},
   "source": [
    "# Dataframe From a List of Lists"
   ]
  },
  {
   "cell_type": "code",
   "execution_count": 19,
   "id": "945ca6ad-95f6-483d-9c50-0199dfe922ab",
   "metadata": {},
   "outputs": [
    {
     "name": "stdout",
     "output_type": "stream",
     "text": [
      "      Name  Age         City\n",
      "0    Alice   25     New York\n",
      "1      Bob   30  Los Angeles\n",
      "2  Charlie   35      Chicago\n"
     ]
    }
   ],
   "source": [
    "data = [\n",
    "    ['Alice', 25, 'New York'],\n",
    "    ['Bob', 30, 'Los Angeles'],\n",
    "    ['Charlie', 35, 'Chicago']\n",
    "]\n",
    "\n",
    "df = pd.DataFrame(data, columns=['Name', 'Age', 'City'])\n",
    "print(df)"
   ]
  },
  {
   "cell_type": "markdown",
   "id": "2150c65c-407a-4e4d-90ff-b6386159ac9a",
   "metadata": {},
   "source": [
    "# Dataframe From a List of Dictionaries"
   ]
  },
  {
   "cell_type": "code",
   "execution_count": 20,
   "id": "d8c19270-834b-4fc8-b49c-82278d996d87",
   "metadata": {},
   "outputs": [
    {
     "name": "stdout",
     "output_type": "stream",
     "text": [
      "      Name  Age         City\n",
      "0    Alice   25     New York\n",
      "1      Bob   30  Los Angeles\n",
      "2  Charlie   35      Chicago\n"
     ]
    }
   ],
   "source": [
    "data = [\n",
    "    {'Name': 'Alice', 'Age': 25, 'City': 'New York'},\n",
    "    {'Name': 'Bob', 'Age': 30, 'City': 'Los Angeles'},\n",
    "    {'Name': 'Charlie', 'Age': 35, 'City': 'Chicago'}\n",
    "]\n",
    "\n",
    "df = pd.DataFrame(data)\n",
    "print(df)"
   ]
  },
  {
   "cell_type": "markdown",
   "id": "f5e4f8ab-68ef-4a85-8875-1896a17f3fa2",
   "metadata": {},
   "source": [
    "# Dataframe From Numpy Arrays"
   ]
  },
  {
   "cell_type": "code",
   "execution_count": 21,
   "id": "ad181912-184b-4a8e-a27f-22eb7082a444",
   "metadata": {},
   "outputs": [
    {
     "name": "stdout",
     "output_type": "stream",
     "text": [
      "\n",
      "DataFrame from a Numpy Array:\n",
      "   A  B  C\n",
      "1  1  2  3\n",
      "2  4  5  6\n",
      "3  7  8  9\n"
     ]
    }
   ],
   "source": [
    "data = np.array([[1, 2, 3], [4, 5, 6], [7, 8, 9]])\n",
    "df = pd.DataFrame(data, columns=['A', 'B', 'C'], index=['1','2','3'])\n",
    "print(\"\\nDataFrame from a Numpy Array:\")\n",
    "print(df)"
   ]
  },
  {
   "cell_type": "markdown",
   "id": "de4ceeef-42e4-4b14-af69-6c74d8543c14",
   "metadata": {},
   "source": [
    "# Data Type of columns"
   ]
  },
  {
   "cell_type": "code",
   "execution_count": 22,
   "id": "85b1386e-2432-4c4d-b10d-903c4280d4fd",
   "metadata": {},
   "outputs": [
    {
     "name": "stdout",
     "output_type": "stream",
     "text": [
      "A    int64\n",
      "B    int64\n",
      "C    int64\n",
      "dtype: object\n"
     ]
    }
   ],
   "source": [
    "print(df.dtypes)"
   ]
  },
  {
   "cell_type": "markdown",
   "id": "a43883cc-0855-42c9-98a9-6183e71e5d78",
   "metadata": {},
   "source": [
    "# Head"
   ]
  },
  {
   "cell_type": "code",
   "execution_count": 23,
   "id": "7b2579e3-dca7-442b-aaf8-4012f9d02b28",
   "metadata": {},
   "outputs": [
    {
     "name": "stdout",
     "output_type": "stream",
     "text": [
      "    ID     Name  Age    City  Score\n",
      "0    1   Name_1   20  City_1      0\n",
      "1    2   Name_2   21  City_2     10\n",
      "2    3   Name_3   22  City_3     20\n",
      "3    4   Name_4   23  City_4     30\n",
      "4    5   Name_5   24  City_5     40\n",
      "5    6   Name_6   25  City_1     50\n",
      "6    7   Name_7   26  City_2     60\n",
      "7    8   Name_8   27  City_3     70\n",
      "8    9   Name_9   28  City_4     80\n",
      "9   10  Name_10   29  City_5     90\n",
      "10  11  Name_11   30  City_1    100\n",
      "11  12  Name_12   31  City_2    110\n",
      "12  13  Name_13   32  City_3    120\n",
      "13  14  Name_14   33  City_4    130\n",
      "14  15  Name_15   34  City_5    140\n",
      "\n",
      "   ID    Name  Age    City  Score\n",
      "0   1  Name_1   20  City_1      0\n",
      "1   2  Name_2   21  City_2     10\n",
      "\n",
      "   ID    Name  Age    City  Score\n",
      "0   1  Name_1   20  City_1      0\n",
      "1   2  Name_2   21  City_2     10\n",
      "2   3  Name_3   22  City_3     20\n",
      "3   4  Name_4   23  City_4     30\n",
      "4   5  Name_5   24  City_5     40\n"
     ]
    }
   ],
   "source": [
    "data = {\n",
    "    'ID': [1, 2, 3, 4, 5, 6, 7, 8, 9, 10, 11, 12, 13, 14, 15],\n",
    "    'Name': ['Name_1', 'Name_2', 'Name_3', 'Name_4', 'Name_5',\n",
    "             'Name_6', 'Name_7', 'Name_8', 'Name_9', 'Name_10',\n",
    "             'Name_11', 'Name_12', 'Name_13', 'Name_14', 'Name_15'],\n",
    "    'Age': [20, 21, 22, 23, 24, 25, 26, 27, 28, 29, 30, 31, 32, 33, 34],\n",
    "    'City': ['City_1', 'City_2', 'City_3', 'City_4', 'City_5',\n",
    "             'City_1', 'City_2', 'City_3', 'City_4', 'City_5',\n",
    "             'City_1', 'City_2', 'City_3', 'City_4', 'City_5'],\n",
    "    'Score': [0, 10, 20, 30, 40, 50, 60, 70, 80, 90, 100, 110, 120, 130, 140]\n",
    "}\n",
    "\n",
    "df = pd.DataFrame(data)\n",
    "print(df)\n",
    "print()\n",
    "\n",
    "\n",
    "print(df.head(2)) # returns first 2 rows\n",
    "print()\n",
    "print(df.head()) # returns first 5 rows(default), if rows<5 returns all rows"
   ]
  },
  {
   "cell_type": "markdown",
   "id": "106971d9-f0a2-45e3-a417-2cc33f2b642c",
   "metadata": {},
   "source": [
    "# Tail"
   ]
  },
  {
   "cell_type": "code",
   "execution_count": 24,
   "id": "f1fba52b-72ce-4b28-b7ab-95e9cb8e1b58",
   "metadata": {},
   "outputs": [
    {
     "name": "stdout",
     "output_type": "stream",
     "text": [
      "    ID     Name  Age    City  Score\n",
      "10  11  Name_11   30  City_1    100\n",
      "11  12  Name_12   31  City_2    110\n",
      "12  13  Name_13   32  City_3    120\n",
      "13  14  Name_14   33  City_4    130\n",
      "14  15  Name_15   34  City_5    140\n",
      "\n",
      "    ID     Name  Age    City  Score\n",
      "12  13  Name_13   32  City_3    120\n",
      "13  14  Name_14   33  City_4    130\n",
      "14  15  Name_15   34  City_5    140\n"
     ]
    }
   ],
   "source": [
    "print(df.tail())\n",
    "print()\n",
    "print(df.tail(3))"
   ]
  },
  {
   "cell_type": "markdown",
   "id": "18aa57b6-50bb-488d-963c-b1ed84ff3f09",
   "metadata": {},
   "source": [
    "# Index"
   ]
  },
  {
   "cell_type": "code",
   "execution_count": 25,
   "id": "6005836b-1230-43db-bdbc-4ec61c358146",
   "metadata": {},
   "outputs": [
    {
     "name": "stdout",
     "output_type": "stream",
     "text": [
      "RangeIndex(start=0, stop=15, step=1)\n"
     ]
    }
   ],
   "source": [
    "print(df.index)"
   ]
  },
  {
   "cell_type": "markdown",
   "id": "ce43f2c6-292e-4d59-a7bf-dbe3e1fcda10",
   "metadata": {},
   "source": [
    "# Columns"
   ]
  },
  {
   "cell_type": "code",
   "execution_count": 26,
   "id": "47135cae-75c1-4466-af37-962e829c014c",
   "metadata": {},
   "outputs": [
    {
     "name": "stdout",
     "output_type": "stream",
     "text": [
      "Index(['ID', 'Name', 'Age', 'City', 'Score'], dtype='object')\n"
     ]
    }
   ],
   "source": [
    "print(df.columns)"
   ]
  },
  {
   "cell_type": "markdown",
   "id": "6201f10c-2213-4b4d-97dc-44438d0e98c9",
   "metadata": {},
   "source": [
    "# Values"
   ]
  },
  {
   "cell_type": "code",
   "execution_count": 27,
   "id": "6ad8b12c-44d6-405a-86f1-fd5a93023b99",
   "metadata": {},
   "outputs": [
    {
     "name": "stdout",
     "output_type": "stream",
     "text": [
      "[[1 'Name_1' 20 'City_1' 0]\n",
      " [2 'Name_2' 21 'City_2' 10]\n",
      " [3 'Name_3' 22 'City_3' 20]\n",
      " [4 'Name_4' 23 'City_4' 30]\n",
      " [5 'Name_5' 24 'City_5' 40]\n",
      " [6 'Name_6' 25 'City_1' 50]\n",
      " [7 'Name_7' 26 'City_2' 60]\n",
      " [8 'Name_8' 27 'City_3' 70]\n",
      " [9 'Name_9' 28 'City_4' 80]\n",
      " [10 'Name_10' 29 'City_5' 90]\n",
      " [11 'Name_11' 30 'City_1' 100]\n",
      " [12 'Name_12' 31 'City_2' 110]\n",
      " [13 'Name_13' 32 'City_3' 120]\n",
      " [14 'Name_14' 33 'City_4' 130]\n",
      " [15 'Name_15' 34 'City_5' 140]]\n"
     ]
    }
   ],
   "source": [
    "print(df.values)"
   ]
  },
  {
   "cell_type": "markdown",
   "id": "c34fe2a7-26a3-4573-a44f-5904e5ee6f6a",
   "metadata": {},
   "source": [
    "# Describe"
   ]
  },
  {
   "cell_type": "code",
   "execution_count": 28,
   "id": "63db2979-f7b3-4aed-a619-75ce84243f58",
   "metadata": {},
   "outputs": [
    {
     "name": "stdout",
     "output_type": "stream",
     "text": [
      "              ID        Age      Score\n",
      "count  15.000000  15.000000   15.00000\n",
      "mean    8.000000  27.000000   70.00000\n",
      "std     4.472136   4.472136   44.72136\n",
      "min     1.000000  20.000000    0.00000\n",
      "25%     4.500000  23.500000   35.00000\n",
      "50%     8.000000  27.000000   70.00000\n",
      "75%    11.500000  30.500000  105.00000\n",
      "max    15.000000  34.000000  140.00000\n"
     ]
    }
   ],
   "source": [
    "print(df.describe()) # gives stastical info"
   ]
  },
  {
   "cell_type": "markdown",
   "id": "bd822d88-1df8-485d-8c10-223d7cc081f7",
   "metadata": {},
   "source": [
    "# Transpose"
   ]
  },
  {
   "cell_type": "code",
   "execution_count": 29,
   "id": "8b258ed7-3648-4a8a-b388-fc2853910223",
   "metadata": {},
   "outputs": [
    {
     "name": "stdout",
     "output_type": "stream",
     "text": [
      "           0       1       2       3       4       5       6       7       8   \\\n",
      "ID          1       2       3       4       5       6       7       8       9   \n",
      "Name   Name_1  Name_2  Name_3  Name_4  Name_5  Name_6  Name_7  Name_8  Name_9   \n",
      "Age        20      21      22      23      24      25      26      27      28   \n",
      "City   City_1  City_2  City_3  City_4  City_5  City_1  City_2  City_3  City_4   \n",
      "Score       0      10      20      30      40      50      60      70      80   \n",
      "\n",
      "            9        10       11       12       13       14  \n",
      "ID          10       11       12       13       14       15  \n",
      "Name   Name_10  Name_11  Name_12  Name_13  Name_14  Name_15  \n",
      "Age         29       30       31       32       33       34  \n",
      "City    City_5   City_1   City_2   City_3   City_4   City_5  \n",
      "Score       90      100      110      120      130      140  \n"
     ]
    }
   ],
   "source": [
    "print(df.T)"
   ]
  },
  {
   "cell_type": "markdown",
   "id": "58225566-c999-4e71-b6d8-2ed1b37c50a8",
   "metadata": {},
   "source": [
    "# Sort values by Column"
   ]
  },
  {
   "cell_type": "code",
   "execution_count": 30,
   "id": "308eb34e-84cc-4946-88af-6be736a3f91a",
   "metadata": {},
   "outputs": [
    {
     "name": "stdout",
     "output_type": "stream",
     "text": [
      "    ID     Name  Age    City  Score\n",
      "0    1   Name_1   20  City_1      0\n",
      "1    2   Name_2   21  City_2     10\n",
      "2    3   Name_3   22  City_3     20\n",
      "3    4   Name_4   23  City_4     30\n",
      "4    5   Name_5   24  City_5     40\n",
      "5    6   Name_6   25  City_1     50\n",
      "6    7   Name_7   26  City_2     60\n",
      "7    8   Name_8   27  City_3     70\n",
      "8    9   Name_9   28  City_4     80\n",
      "9   10  Name_10   29  City_5     90\n",
      "10  11  Name_11   30  City_1    100\n",
      "11  12  Name_12   31  City_2    110\n",
      "12  13  Name_13   32  City_3    120\n",
      "13  14  Name_14   33  City_4    130\n",
      "14  15  Name_15   34  City_5    140\n"
     ]
    }
   ],
   "source": [
    "print(df.sort_values(by='Score'))"
   ]
  },
  {
   "cell_type": "markdown",
   "id": "562b423e-a970-4afe-a152-0ea96082b0c8",
   "metadata": {},
   "source": [
    "# Slicing after sorting"
   ]
  },
  {
   "cell_type": "code",
   "execution_count": 31,
   "id": "5bd3565d-4a0e-494c-842c-b398b4e06ada",
   "metadata": {},
   "outputs": [
    {
     "name": "stdout",
     "output_type": "stream",
     "text": [
      "   ID    Name  Age    City  Score\n",
      "4   5  Name_5   24  City_5     40\n",
      "5   6  Name_6   25  City_1     50\n",
      "6   7  Name_7   26  City_2     60\n",
      "7   8  Name_8   27  City_3     70\n"
     ]
    }
   ],
   "source": [
    "print(df.sort_values(by=\"Score\")[4:8])"
   ]
  },
  {
   "cell_type": "markdown",
   "id": "12590c1c-1f6d-4a05-8a6c-1b768c6b2305",
   "metadata": {},
   "source": [
    "# Picking Columns"
   ]
  },
  {
   "cell_type": "code",
   "execution_count": 32,
   "id": "5b76ffb3-01d0-42d9-99d8-47c0dc2b35c8",
   "metadata": {},
   "outputs": [
    {
     "name": "stdout",
     "output_type": "stream",
     "text": [
      "       Name    City\n",
      "0    Name_1  City_1\n",
      "1    Name_2  City_2\n",
      "2    Name_3  City_3\n",
      "3    Name_4  City_4\n",
      "4    Name_5  City_5\n",
      "5    Name_6  City_1\n",
      "6    Name_7  City_2\n",
      "7    Name_8  City_3\n",
      "8    Name_9  City_4\n",
      "9   Name_10  City_5\n",
      "10  Name_11  City_1\n",
      "11  Name_12  City_2\n",
      "12  Name_13  City_3\n",
      "13  Name_14  City_4\n",
      "14  Name_15  City_5\n"
     ]
    }
   ],
   "source": [
    "print(df[[\"Name\",\"City\"]])"
   ]
  },
  {
   "cell_type": "markdown",
   "id": "5a96e749-ed64-4b89-a548-df046b6f9381",
   "metadata": {},
   "source": [
    "# Slicing(same as in list)"
   ]
  },
  {
   "cell_type": "code",
   "execution_count": 33,
   "id": "6347c744-2306-4852-abcb-db2f4bb4864e",
   "metadata": {},
   "outputs": [
    {
     "name": "stdout",
     "output_type": "stream",
     "text": [
      "   ID    Name  Age    City  Score\n",
      "3   4  Name_4   23  City_4     30\n",
      "4   5  Name_5   24  City_5     40\n",
      "5   6  Name_6   25  City_1     50\n",
      "6   7  Name_7   26  City_2     60\n",
      "7   8  Name_8   27  City_3     70\n",
      "8   9  Name_9   28  City_4     80\n"
     ]
    }
   ],
   "source": [
    "print(df[3:9])"
   ]
  },
  {
   "cell_type": "markdown",
   "id": "a6998b01-5709-49ad-856e-796933270424",
   "metadata": {},
   "source": [
    "# iloc"
   ]
  },
  {
   "cell_type": "code",
   "execution_count": 34,
   "id": "0245bd47-5e4a-421d-8448-dedca3b8b250",
   "metadata": {},
   "outputs": [
    {
     "name": "stdout",
     "output_type": "stream",
     "text": [
      "   ID    Name  Age    City  Score\n",
      "0   1  Name_1   20  City_1      0\n",
      "1   2  Name_2   21  City_2     10\n",
      "\n",
      "   ID  Age\n",
      "1   2   21\n",
      "2   3   22\n",
      "3   4   23\n",
      "4   5   24\n",
      "\n",
      "   ID    Name  Age    City  Score\n",
      "0   1  Name_1   20  City_1      0\n",
      "2   3  Name_3   22  City_3     20\n",
      "3   4  Name_4   23  City_4     30\n",
      "\n",
      "     Name    City\n",
      "0  Name_1  City_1\n",
      "2  Name_3  City_3\n",
      "3  Name_4  City_4\n"
     ]
    }
   ],
   "source": [
    "# df.iloc[row_selection, column_selection]\n",
    "\n",
    "print(df.iloc[:2]) # Selects first 2 rows\n",
    "# iloc is similar to simple slicing but its recommended to use iloc as more versetile\n",
    "\n",
    "print()\n",
    "print(df.iloc[1:5, [0, 2]]) # Select rows 1 to 5 and columns 0 and 2\n",
    "\n",
    "print()\n",
    "print(df.iloc[[0, 2, 3]]) # Select rows 0, 2, and 3\n",
    "\n",
    "print()\n",
    "print(df.iloc[[0, 2, 3],[1,3]]) # Select rows 0, 2, and 3 and column 1 and 3"
   ]
  },
  {
   "cell_type": "markdown",
   "id": "4ef9c12a-3755-4299-bf33-5143fb01ecf9",
   "metadata": {},
   "source": [
    "# Shallow copy"
   ]
  },
  {
   "cell_type": "code",
   "execution_count": 35,
   "id": "ed71ce50-8176-44cc-b429-6b75647746d1",
   "metadata": {},
   "outputs": [],
   "source": [
    "df1 = df.copy()"
   ]
  },
  {
   "cell_type": "markdown",
   "id": "bc992465-f779-4ad5-b56e-3e11b19d2711",
   "metadata": {},
   "source": [
    "# isnull"
   ]
  },
  {
   "cell_type": "code",
   "execution_count": 36,
   "id": "5bfc40c9-78ab-4eb5-a9e6-4e0969f49eee",
   "metadata": {},
   "outputs": [
    {
     "name": "stdout",
     "output_type": "stream",
     "text": [
      "       ID   Name    Age   City  Score\n",
      "0   False  False  False  False  False\n",
      "1   False  False  False  False  False\n",
      "2   False  False  False  False  False\n",
      "3   False  False  False  False  False\n",
      "4   False  False  False  False  False\n",
      "5   False  False  False  False  False\n",
      "6   False  False  False  False  False\n",
      "7   False  False  False  False  False\n",
      "8   False  False  False  False  False\n",
      "9   False  False  False  False  False\n",
      "10  False  False  False  False  False\n",
      "11  False  False  False  False  False\n",
      "12  False  False  False  False  False\n",
      "13  False  False  False  False  False\n",
      "14  False  False  False  False  False\n"
     ]
    }
   ],
   "source": [
    "print(df.isnull()) # returns boolean dataframe, where True if orignal had null, else False"
   ]
  },
  {
   "cell_type": "markdown",
   "id": "3dce734d-5afc-4564-bad5-99c2cefabffe",
   "metadata": {},
   "source": [
    "# loc"
   ]
  },
  {
   "cell_type": "code",
   "execution_count": 37,
   "id": "aa77e61f-3094-4700-afa0-52d06e489c6a",
   "metadata": {},
   "outputs": [
    {
     "name": "stdout",
     "output_type": "stream",
     "text": [
      "    ID     Name  Age    City  Score\n",
      "0    1    Shail   20  City_1      0\n",
      "1    2   Name_2   21  City_2     10\n",
      "2    3   Name_3   22  City_3     20\n",
      "3    4   Name_4   23  City_4     30\n",
      "4    5   Name_5   24  City_5     40\n",
      "5    6   Name_6   25  City_1     50\n",
      "6    7   Name_7   26  City_2     60\n",
      "7    8   Name_8   27  City_3     70\n",
      "8    9   Name_9   28  City_4     80\n",
      "9   10  Name_10   29  City_5     90\n",
      "10  11  Name_11   30  City_1    100\n",
      "11  12  Name_12   31  City_2    110\n",
      "12  13  Name_13   32  City_3    120\n",
      "13  14  Name_14   33  City_4    130\n",
      "14  15  Name_15   34  City_5    140\n"
     ]
    }
   ],
   "source": [
    "df.loc[0,'Name'] = 'Shail' # loc is for changing values\n",
    "print(df)"
   ]
  },
  {
   "cell_type": "markdown",
   "id": "f502e422-8370-4fda-9f36-dcd0ff081fb5",
   "metadata": {},
   "source": [
    "# Mean Median Mode Min Max Sum with column name"
   ]
  },
  {
   "cell_type": "code",
   "execution_count": 38,
   "id": "652bd807-e5a3-42d4-8d66-41c9726d19ad",
   "metadata": {},
   "outputs": [
    {
     "name": "stdout",
     "output_type": "stream",
     "text": [
      "Mean: 27.0\n",
      "Median: 27.0\n",
      "Mode:\n",
      "0     20\n",
      "1     21\n",
      "2     22\n",
      "3     23\n",
      "4     24\n",
      "5     25\n",
      "6     26\n",
      "7     27\n",
      "8     28\n",
      "9     29\n",
      "10    30\n",
      "11    31\n",
      "12    32\n",
      "13    33\n",
      "14    34\n",
      "Name: Age, dtype: int64\n",
      "\n",
      "Min: 20\n",
      "Max: 34\n",
      "Sum: 405\n"
     ]
    }
   ],
   "source": [
    "print(\"Mean:\",df['Age'].mean())\n",
    "print(\"Median:\",df['Age'].median())\n",
    "print(\"Mode:\\n\",df['Age'].mode(),sep=\"\")\n",
    "\n",
    "print()\n",
    "print(\"Min:\",df['Age'].min())\n",
    "print(\"Max:\",df['Age'].max())\n",
    "print(\"Sum:\",df['Age'].sum())"
   ]
  },
  {
   "cell_type": "markdown",
   "id": "6cb37536-774f-4509-ae9b-d585a975e72c",
   "metadata": {},
   "source": [
    "# String Operations"
   ]
  },
  {
   "cell_type": "code",
   "execution_count": 39,
   "id": "558952eb-aa0f-4d0d-8748-77ca5c9a8311",
   "metadata": {},
   "outputs": [
    {
     "name": "stdout",
     "output_type": "stream",
     "text": [
      "     Names       Cities  Hobbies\n",
      "0    Alice     New York  Reading\n",
      "1      Bob  Los Angeles      NaN\n",
      "2  Charlie      Chicago   Gaming\n",
      "3      NaN      Houston   Hiking\n",
      "4      Eve      Phoenix  Cooking\n"
     ]
    }
   ],
   "source": [
    "data = {\n",
    "    'Names': ['Alice', 'Bob', 'Charlie', np.nan, 'Eve'],\n",
    "    'Cities': ['New York', 'Los Angeles', 'Chicago', 'Houston', 'Phoenix'],\n",
    "    'Hobbies': ['Reading', np.nan, 'Gaming', 'Hiking', 'Cooking']\n",
    "}\n",
    "\n",
    "df = pd.DataFrame(data)\n",
    "print(df)"
   ]
  },
  {
   "cell_type": "markdown",
   "id": "14c26199-f7dc-4f6d-8891-637ab62993c0",
   "metadata": {},
   "source": [
    "# Upper"
   ]
  },
  {
   "cell_type": "code",
   "execution_count": 40,
   "id": "46238860-cb2a-4041-900c-05a18789f6c4",
   "metadata": {},
   "outputs": [
    {
     "name": "stdout",
     "output_type": "stream",
     "text": [
      "0      ALICE\n",
      "1        BOB\n",
      "2    CHARLIE\n",
      "3        NaN\n",
      "4        EVE\n",
      "Name: Names, dtype: object\n"
     ]
    }
   ],
   "source": [
    "print(df['Names'].str.upper())"
   ]
  },
  {
   "cell_type": "markdown",
   "id": "58c77e3e-3c55-4f55-ae90-4d8dd8350905",
   "metadata": {},
   "source": [
    "# Lower"
   ]
  },
  {
   "cell_type": "code",
   "execution_count": 41,
   "id": "2d8de948-fcf8-4be7-ad78-af10b9865e6b",
   "metadata": {},
   "outputs": [
    {
     "name": "stdout",
     "output_type": "stream",
     "text": [
      "0      alice\n",
      "1        bob\n",
      "2    charlie\n",
      "3        NaN\n",
      "4        eve\n",
      "Name: Names, dtype: object\n"
     ]
    }
   ],
   "source": [
    "print(df['Names'].str.lower())"
   ]
  },
  {
   "cell_type": "markdown",
   "id": "4c5ec66e-2da1-4000-90dc-6ab021d801bc",
   "metadata": {},
   "source": [
    "# Fill NaN Values"
   ]
  },
  {
   "cell_type": "code",
   "execution_count": 42,
   "id": "a7788245-6de6-4f18-966d-82c880b3770f",
   "metadata": {},
   "outputs": [
    {
     "name": "stdout",
     "output_type": "stream",
     "text": [
      "Before:\n",
      "     Names       Cities  Hobbies\n",
      "0    Alice     New York  Reading\n",
      "1      Bob  Los Angeles      NaN\n",
      "2  Charlie      Chicago   Gaming\n",
      "3      NaN      Houston   Hiking\n",
      "4      Eve      Phoenix  Cooking\n",
      "\n",
      "     Names       Cities  Hobbies\n",
      "0    Alice     New York  Reading\n",
      "1      Bob  Los Angeles        4\n",
      "2  Charlie      Chicago   Gaming\n",
      "3        4      Houston   Hiking\n",
      "4      Eve      Phoenix  Cooking\n"
     ]
    }
   ],
   "source": [
    "print(\"Before:\\n\",df,sep=\"\")\n",
    "print()\n",
    "\n",
    "print(df.fillna(4)) # will set all NaN value with NaN"
   ]
  },
  {
   "cell_type": "markdown",
   "id": "dfc85185-ff58-42e9-950f-b0bd43d9cfd5",
   "metadata": {},
   "source": [
    "# Drop NaN rows"
   ]
  },
  {
   "cell_type": "code",
   "execution_count": 43,
   "id": "931e69a0-486e-42f4-abbe-fefe53a4b148",
   "metadata": {},
   "outputs": [
    {
     "name": "stdout",
     "output_type": "stream",
     "text": [
      "Before:\n",
      "     Names       Cities  Hobbies\n",
      "0    Alice     New York  Reading\n",
      "1      Bob  Los Angeles      NaN\n",
      "2  Charlie      Chicago   Gaming\n",
      "3      NaN      Houston   Hiking\n",
      "4      Eve      Phoenix  Cooking\n",
      "\n",
      "     Names    Cities  Hobbies\n",
      "0    Alice  New York  Reading\n",
      "2  Charlie   Chicago   Gaming\n",
      "4      Eve   Phoenix  Cooking\n"
     ]
    }
   ],
   "source": [
    "print(\"Before:\\n\",df,sep=\"\")\n",
    "print()\n",
    "\n",
    "print(df.dropna())# deletes all rows where NaN was present"
   ]
  },
  {
   "cell_type": "markdown",
   "id": "c2b2c168-ad4c-44f5-9cc9-1d63e17c35f5",
   "metadata": {},
   "source": [
    "# Create CSV file from DF"
   ]
  },
  {
   "cell_type": "code",
   "execution_count": 44,
   "id": "d97d14b7-08b0-426b-9b80-3806d4061e7c",
   "metadata": {},
   "outputs": [],
   "source": [
    "df.to_csv('trial.csv')"
   ]
  },
  {
   "cell_type": "markdown",
   "id": "e6260d60-5ba8-429e-b1dc-84b144b6973b",
   "metadata": {},
   "source": [
    "# Read csv file"
   ]
  },
  {
   "cell_type": "code",
   "execution_count": 45,
   "id": "fe9a8ff6-c502-4434-a94d-8d3051bb473a",
   "metadata": {},
   "outputs": [
    {
     "data": {
      "text/html": [
       "<div>\n",
       "<style scoped>\n",
       "    .dataframe tbody tr th:only-of-type {\n",
       "        vertical-align: middle;\n",
       "    }\n",
       "\n",
       "    .dataframe tbody tr th {\n",
       "        vertical-align: top;\n",
       "    }\n",
       "\n",
       "    .dataframe thead th {\n",
       "        text-align: right;\n",
       "    }\n",
       "</style>\n",
       "<table border=\"1\" class=\"dataframe\">\n",
       "  <thead>\n",
       "    <tr style=\"text-align: right;\">\n",
       "      <th></th>\n",
       "      <th>Unnamed: 0</th>\n",
       "      <th>Names</th>\n",
       "      <th>Cities</th>\n",
       "      <th>Hobbies</th>\n",
       "    </tr>\n",
       "  </thead>\n",
       "  <tbody>\n",
       "    <tr>\n",
       "      <th>0</th>\n",
       "      <td>0</td>\n",
       "      <td>Alice</td>\n",
       "      <td>New York</td>\n",
       "      <td>Reading</td>\n",
       "    </tr>\n",
       "    <tr>\n",
       "      <th>1</th>\n",
       "      <td>1</td>\n",
       "      <td>Bob</td>\n",
       "      <td>Los Angeles</td>\n",
       "      <td>NaN</td>\n",
       "    </tr>\n",
       "    <tr>\n",
       "      <th>2</th>\n",
       "      <td>2</td>\n",
       "      <td>Charlie</td>\n",
       "      <td>Chicago</td>\n",
       "      <td>Gaming</td>\n",
       "    </tr>\n",
       "  </tbody>\n",
       "</table>\n",
       "</div>"
      ],
      "text/plain": [
       "   Unnamed: 0    Names       Cities  Hobbies\n",
       "0           0    Alice     New York  Reading\n",
       "1           1      Bob  Los Angeles      NaN\n",
       "2           2  Charlie      Chicago   Gaming"
      ]
     },
     "execution_count": 45,
     "metadata": {},
     "output_type": "execute_result"
    }
   ],
   "source": [
    "df1 = pd.read_csv('trial.csv')\n",
    "df1.head(3)"
   ]
  },
  {
   "cell_type": "markdown",
   "id": "db049b49-8664-4a10-8c16-fcd0d219dd83",
   "metadata": {},
   "source": [
    "# DF to Excel"
   ]
  },
  {
   "cell_type": "code",
   "execution_count": 46,
   "id": "1e3026bf-309f-4837-a857-0830ea9cc810",
   "metadata": {},
   "outputs": [],
   "source": [
    "df.to_excel('trial.xlsx', sheet_name='Sheet1')"
   ]
  },
  {
   "cell_type": "markdown",
   "id": "e7f3712b-3e82-4463-b394-28c9d2376768",
   "metadata": {},
   "source": [
    "# Read Excel"
   ]
  },
  {
   "cell_type": "code",
   "execution_count": 47,
   "id": "d906ebfd-378c-483b-823c-219f85f8be58",
   "metadata": {},
   "outputs": [
    {
     "name": "stdout",
     "output_type": "stream",
     "text": [
      "   Unnamed: 0    Names       Cities  Hobbies\n",
      "0           0    Alice     New York  Reading\n",
      "1           1      Bob  Los Angeles      NaN\n",
      "2           2  Charlie      Chicago   Gaming\n",
      "3           3      NaN      Houston   Hiking\n",
      "4           4      Eve      Phoenix  Cooking\n"
     ]
    }
   ],
   "source": [
    "df1 = pd.read_excel('trial.xlsx', 'Sheet1', na_values=['NA'])\n",
    "print(df1)"
   ]
  },
  {
   "cell_type": "markdown",
   "id": "c78ebb13-656c-4680-94da-30474ad7bf6c",
   "metadata": {},
   "source": [
    "# ***The End***"
   ]
  }
 ],
 "metadata": {
  "kernelspec": {
   "display_name": "Python 3.12",
   "language": "python",
   "name": "python312"
  },
  "language_info": {
   "codemirror_mode": {
    "name": "ipython",
    "version": 3
   },
   "file_extension": ".py",
   "mimetype": "text/x-python",
   "name": "python",
   "nbconvert_exporter": "python",
   "pygments_lexer": "ipython3",
   "version": "3.12.8"
  }
 },
 "nbformat": 4,
 "nbformat_minor": 5
}
